{
  "nbformat": 4,
  "nbformat_minor": 0,
  "metadata": {
    "colab": {
      "provenance": [],
      "authorship_tag": "ABX9TyOJgZti150jn680GtjzoD+V",
      "include_colab_link": true
    },
    "kernelspec": {
      "name": "python3",
      "display_name": "Python 3"
    },
    "language_info": {
      "name": "python"
    }
  },
  "cells": [
    {
      "cell_type": "markdown",
      "metadata": {
        "id": "view-in-github",
        "colab_type": "text"
      },
      "source": [
        "<a href=\"https://colab.research.google.com/github/pashkev14/DD_CL-NLP_Final/blob/main/main.ipynb\" target=\"_parent\"><img src=\"https://colab.research.google.com/assets/colab-badge.svg\" alt=\"Open In Colab\"/></a>"
      ]
    },
    {
      "cell_type": "code",
      "source": [
        "import nltk\n",
        "nltk.download('punkt')"
      ],
      "metadata": {
        "colab": {
          "base_uri": "https://localhost:8080/"
        },
        "id": "zgLXAx2m_DXU",
        "outputId": "ec515138-f905-4fec-a07c-66f4a1014c43"
      },
      "execution_count": 1,
      "outputs": [
        {
          "output_type": "stream",
          "name": "stderr",
          "text": [
            "[nltk_data] Downloading package punkt to /root/nltk_data...\n",
            "[nltk_data]   Unzipping tokenizers/punkt.zip.\n"
          ]
        },
        {
          "output_type": "execute_result",
          "data": {
            "text/plain": [
              "True"
            ]
          },
          "metadata": {},
          "execution_count": 1
        }
      ]
    },
    {
      "cell_type": "markdown",
      "source": [
        "Импортировали NLTK и загрузили необходимую модель для TextBlob."
      ],
      "metadata": {
        "id": "fhGq-j4L_Ph0"
      }
    },
    {
      "cell_type": "code",
      "source": [
        "from textblob import TextBlob # для анализа тональности будем использовать TextBlob"
      ],
      "metadata": {
        "id": "dU0MiBgl_ZG5"
      },
      "execution_count": 2,
      "outputs": []
    },
    {
      "cell_type": "code",
      "source": [
        "# функция вычисления полярности текста\n",
        "def sentiment_score(review):\n",
        "  blob = TextBlob(review)\n",
        "  return blob.sentiment.polarity"
      ],
      "metadata": {
        "id": "PBIqIRrE_h-o"
      },
      "execution_count": 3,
      "outputs": []
    },
    {
      "cell_type": "code",
      "source": [
        "# функция оценки полярности на основе вычисленного результата\n",
        "def sentiment_grade(score):\n",
        "  # будем считать, что полярность меньше -0.05 - отрицательная,\n",
        "  # больше 0.05 - положительная,\n",
        "  # все остальное будем считать нейтральным\n",
        "  if score < -0.05:\n",
        "    return 'отрицательный'\n",
        "  if score > 0.05:\n",
        "    return 'положительный'\n",
        "  return 'нейтральный'"
      ],
      "metadata": {
        "id": "Ozcqw9tK_OtV"
      },
      "execution_count": 4,
      "outputs": []
    },
    {
      "cell_type": "code",
      "source": [
        "# функция вычисления субъективности текста\n",
        "def subjectivity_score(review):\n",
        "  blob = TextBlob(review)\n",
        "  return blob.sentiment.subjectivity"
      ],
      "metadata": {
        "id": "icEXyqZ2BK_c"
      },
      "execution_count": 5,
      "outputs": []
    },
    {
      "cell_type": "code",
      "source": [
        "# функция оценки субъективности на основе вычисленного результата\n",
        "def subjectivity_grade(score):\n",
        "  # будем считать, что оценка от 0.0 до 0.3 - объективная,\n",
        "  # от 0.3 до 0.7 - нейтральная,\n",
        "  # от 0.7 до 1.0 - субъективная\n",
        "  if score < 0.3:\n",
        "    return 'объективный'\n",
        "  if score < 0.7:\n",
        "    return 'нейтральный'\n",
        "  return 'субъективный'"
      ],
      "metadata": {
        "id": "F1rPfPcKDEF1"
      },
      "execution_count": 6,
      "outputs": []
    },
    {
      "cell_type": "code",
      "source": [
        "import pandas as pd # для чтения xlsx файла с отзывами и записи в xlsx файл результатов будем использовать pandas\n",
        "\n",
        "# читаем файл и применяем к нему наши функции сентимент-анализа\n",
        "data = pd.read_excel('imdb_reviews.xlsx', sheet_name='Sheet1')\n",
        "data['polarity_score'] = data['review_text'].apply(sentiment_score)\n",
        "data['polarity_grade'] = data['polarity_score'].apply(sentiment_grade)\n",
        "data['subjectivity_score'] = data['review_text'].apply(subjectivity_score)\n",
        "data['subjectivity_grade'] = data['subjectivity_score'].apply(subjectivity_grade)\n",
        "# записываем данные в файл\n",
        "with pd.ExcelWriter('imdb_reviews_analysis.xlsx') as writer:\n",
        "  data.to_excel(writer, sheet_name='General')\n",
        "  data[data['polarity_grade'] == 'отрицательный'].to_excel(writer, sheet_name='NegativePolarity')\n",
        "  data[data['polarity_grade'] == 'нейтральный'].to_excel(writer, sheet_name='NeutralPolarity')\n",
        "  data[data['polarity_grade'] == 'положительный'].to_excel(writer, sheet_name='PositivePolarity')\n",
        "  data[data['subjectivity_grade'] == 'объективный'].to_excel(writer, sheet_name='Objective')\n",
        "  data[data['subjectivity_grade'] == 'нейтральный'].to_excel(writer, sheet_name='Neutral')\n",
        "  data[data['subjectivity_grade'] == 'субъективный'].to_excel(writer, sheet_name='Subjective')"
      ],
      "metadata": {
        "id": "rrZPTV7xDk2j"
      },
      "execution_count": 7,
      "outputs": []
    },
    {
      "cell_type": "markdown",
      "source": [
        "Результаты очень интересные:\n",
        "1. В категорию положительных отзывов попали даже отрицательные отзывы (даже не с пограничной оценкой, а с явно выраженной положительной оценкой)\n",
        "2. Большинство отрицательных отзывов получили нейтральную оценку\n",
        "3. Положительные отзывы были оценены верно и попали в категорию положительных отзывов\n",
        "4. Ни один отзыв не был оценен как объективный, все отзывы имеют как эмоции, так и факты\n",
        "5. Но и сильно субъективным отзывом был оценен только один экземпляр - следовательно, из выборки все отзывы стремятся к сочетанию эмоциональности и фактов"
      ],
      "metadata": {
        "id": "hF0zRND7LueO"
      }
    }
  ]
}